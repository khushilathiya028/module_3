{
 "cells": [
  {
   "cell_type": "code",
   "execution_count": null,
   "id": "39c1b06f",
   "metadata": {},
   "outputs": [],
   "source": [
    "# (1) What is List? How will you reverse a list?\n",
    "\n",
    "#          Lists are used to store multiple items in a single variable. \n",
    "#          Lists are one of 4 built-in data types in Python used to store collections of data, \n",
    "#         the other 3 are Tuple, Set, and Dictionary, all with different qualities and usage.\n",
    "\n",
    "\n",
    "#         In Python, a built-in function called reverse() is used to reverse the list.\n",
    "#         This simple and quick way to reverse a list in Python requires little memory."
   ]
  },
  {
   "cell_type": "code",
   "execution_count": null,
   "id": "d8205c44",
   "metadata": {},
   "outputs": [],
   "source": [
    "#(2) How will you remove last object from a list?\n",
    "#    Suppose list1 is [2, 33, 222, 14, and 25], what is list1 [-1]? \n",
    "\n",
    "#          One way is to use the pop() method. This method removes the last element of a list by default, \n",
    "#          or you can specify the index of the element you want to remove.\n",
    "#          list[-1] is 25. Beacuse of -1 index is the last index in the list.      \n"
   ]
  },
  {
   "cell_type": "code",
   "execution_count": null,
   "id": "87ed0fd1",
   "metadata": {},
   "outputs": [],
   "source": [
    "#(3) Differentiate between append () and extend () methods? \n",
    "\n",
    "#               The append() method in the Python programming language adds an item to a list that already exists whereas\n",
    "#               the extend() method adds each of the iterable elements which is supplied as a parameter to \n",
    "#               the end of the original list."
   ]
  },
  {
   "cell_type": "code",
   "execution_count": 12,
   "id": "f71dd965",
   "metadata": {},
   "outputs": [
    {
     "name": "stdout",
     "output_type": "stream",
     "text": [
      "How many numbers: 4\n",
      "Enter number 20\n",
      "Maximum element in the list is : 20 \n",
      "Minimum element in the list is : 20\n",
      "Enter number 30\n",
      "Maximum element in the list is : 30 \n",
      "Minimum element in the list is : 20\n",
      "Enter number 50\n",
      "Maximum element in the list is : 50 \n",
      "Minimum element in the list is : 20\n",
      "Enter number 50\n",
      "Maximum element in the list is : 50 \n",
      "Minimum element in the list is : 20\n"
     ]
    }
   ],
   "source": [
    "#(4) Write a Python function to get the largest number, smallest num and sum of all from a list.\n",
    "\n",
    "\n",
    "lst = []\n",
    "num = int(input('How many numbers: ')) \n",
    "for n in range(num): \n",
    "    numbers = int(input('Enter number ')) \n",
    "    lst.append(numbers) \n",
    "    print(\"Maximum element in the list is :\", max(lst), \"\\nMinimum element in the list is :\", min(lst))\n",
    "    "
   ]
  },
  {
   "cell_type": "code",
   "execution_count": null,
   "id": "64614d79",
   "metadata": {},
   "outputs": [],
   "source": [
    "#(5) How will you compare two lists?  \n",
    "\n",
    "#               You can use the Python map() function along with the functools. \n",
    "#               reduce() function to compare the data items of two lists. \n",
    "#               When you use them in combination, \n",
    "#               the map() function applies the given function to every element and\n",
    "#              the reduce() function ensures that it applies the function in a consecutive manner."
   ]
  },
  {
   "cell_type": "code",
   "execution_count": null,
   "id": "ba547e58",
   "metadata": {},
   "outputs": [],
   "source": [
    "#(6) Write a Python program to count the number of strings where the string\n",
    "#    length is 2 or more and the first and last character are same from a givelist of strings\n",
    "\n",
    "\n"
   ]
  },
  {
   "cell_type": "code",
   "execution_count": 2,
   "id": "a6a69d05",
   "metadata": {},
   "outputs": [
    {
     "name": "stdout",
     "output_type": "stream",
     "text": [
      "[70, 40, 10, 80, 50, 20, 90, 60, 30]\n"
     ]
    }
   ],
   "source": [
    "#(7) Write a Python program to remove duplicates from a list\n",
    "\n",
    "list1=[10,20,20,30,30,40,50,60,70,80,80,90]\n",
    "print(list(set(list1)))\n",
    "\n"
   ]
  },
  {
   "cell_type": "code",
   "execution_count": 3,
   "id": "6ab49d6c",
   "metadata": {},
   "outputs": [
    {
     "name": "stdout",
     "output_type": "stream",
     "text": [
      "list is empty\n"
     ]
    }
   ],
   "source": [
    "#(8) Write a Python program to check a list is empty or not\n",
    "\n",
    "l=[]\n",
    "if not l:\n",
    "    print(\"list is empty\")"
   ]
  },
  {
   "cell_type": "code",
   "execution_count": 4,
   "id": "fa2e5b67",
   "metadata": {},
   "outputs": [
    {
     "name": "stdout",
     "output_type": "stream",
     "text": [
      "True\n",
      "None\n"
     ]
    }
   ],
   "source": [
    "#(9)  Write a Python function that takes two lists and returns true if they have at least one common member. \n",
    "\n",
    "def data(list1,list2):\n",
    "    result = False\n",
    "    for x in list1:\n",
    "       \n",
    "    for y in list2:\n",
    "            if x == y:\n",
    "                result = True\n",
    "                return  result\n",
    "print(data([1,2,3,4,5],[5,6,7,8,9]))\n",
    "print(data([1,2,3,4,5],[6,7,8,9]))"
   ]
  },
  {
   "cell_type": "code",
   "execution_count": 5,
   "id": "5e055dd2",
   "metadata": {},
   "outputs": [
    {
     "name": "stdout",
     "output_type": "stream",
     "text": [
      "[121, 144, 169, 196, 225]\n",
      "[400, 441, 484, 529, 576]\n"
     ]
    }
   ],
   "source": [
    "# (10)  Write a Python program to generate and print a list of first and last 5 elements where the values are square of\n",
    "#       numbers between 1 and 30.\n",
    "\n",
    "l = list()\n",
    "for i in range(11,25):\n",
    "    l.append(i**2)\n",
    "print(l[:5])    \n",
    "print(l[-5:])\n"
   ]
  },
  {
   "cell_type": "code",
   "execution_count": 6,
   "id": "07abf2e7",
   "metadata": {},
   "outputs": [
    {
     "name": "stdout",
     "output_type": "stream",
     "text": [
      "[1, 2, 3, 4, 5, 6, 7, 8, 9, 10, 11, 12, 13, 14, 15, 16, 17, 18, 19, 20]\n"
     ]
    }
   ],
   "source": [
    "# (11)   Write a Python function that takes a list and returns a new list with unique elements of the first list.\n",
    "\n",
    "def f(l):\n",
    "    x = []\n",
    "    for a in l:\n",
    "        if a not in x:\n",
    "            x.append(a)\n",
    "    return x\n",
    "print(f([1,2,3,4,4,4,5,5,5,6,6,7,8,9,10,11,12,13,14,15,15,15,16,16,17,17,17,18,19,20,20,20]))"
   ]
  },
  {
   "cell_type": "code",
   "execution_count": 7,
   "id": "a744f1a7",
   "metadata": {},
   "outputs": [
    {
     "name": "stdout",
     "output_type": "stream",
     "text": [
      "['h', 'e', 'l', 'l', 'o', 'i', 'a', 'm', 'k', 'h', 'u', 's', 'h', 'i']\n"
     ]
    }
   ],
   "source": [
    "# (12)   Write a Python program to convert a list of characters into a string\n",
    "\n",
    "a =list(\"helloiamkhushi\")\n",
    "print(a)"
   ]
  },
  {
   "cell_type": "code",
   "execution_count": 8,
   "id": "b5580b35",
   "metadata": {},
   "outputs": [
    {
     "name": "stdout",
     "output_type": "stream",
     "text": [
      "Red\n"
     ]
    }
   ],
   "source": [
    "# (13)  Write a Python program to select an item randomly from a list. \n",
    "\n",
    "import random\n",
    "color_list = ['Red', 'Blue', 'Green', 'White', 'Black']\n",
    "print(random.choice(color_list))"
   ]
  },
  {
   "cell_type": "code",
   "execution_count": 10,
   "id": "b4cccaa4",
   "metadata": {},
   "outputs": [
    {
     "name": "stdout",
     "output_type": "stream",
     "text": [
      "enter the number of the elements :3\n",
      "enter the elements :20\n",
      "enter the elements :30\n",
      "enter the elements :90\n",
      "the sorted list : [20, 30, 90]\n",
      "the second smallest value of this list : 30\n"
     ]
    }
   ],
   "source": [
    "#(14)  Write a Python program to find the second smallest number in a list.\n",
    "li=[] \n",
    "n=int(input(\"enter the number of the elements :\"))\n",
    "for i in range(1,n+1): \n",
    "    elem=int(input(\"enter the elements :\")) \n",
    "    li.append(elem)\n",
    "li.sort()\n",
    "\n",
    "print(\"the sorted list :\",li)\n",
    "print(\"the second smallest value of this list :\",li[1])"
   ]
  },
  {
   "cell_type": "code",
   "execution_count": 11,
   "id": "8c9d3784",
   "metadata": {},
   "outputs": [
    {
     "name": "stdout",
     "output_type": "stream",
     "text": [
      "[1, 2, 3, 4, 5, 6, 7]\n"
     ]
    }
   ],
   "source": [
    "#(15) Write a Python program to get unique values from a list \n",
    "\n",
    "list=[1,2,3,4,4,5,6,2,3,7,]\n",
    "unique_list=[]\n",
    "for i in list:\n",
    "    if i not in unique_list:\n",
    "        unique_list.append (i)\n",
    "print(unique_list)            \n",
    "            \n",
    "            "
   ]
  },
  {
   "cell_type": "code",
   "execution_count": null,
   "id": "6ca43b77",
   "metadata": {},
   "outputs": [],
   "source": [
    "#(16) Write a Python program to check whether a list contains a sub list \n",
    "\n"
   ]
  },
  {
   "cell_type": "code",
   "execution_count": 2,
   "id": "8aa1d111",
   "metadata": {},
   "outputs": [],
   "source": [
    "#(17) Write a Python program to split a list into different variables. \n",
    "color =[(\"red\",\"#00000\",\"rgb(0,0,0)\"),(\"yello\",\"#f888\",\"rgb(225)\")]\n",
    "ver1, ver2=color\n",
    "print=(ver1)\n",
    "print=(ver2)\n"
   ]
  },
  {
   "cell_type": "code",
   "execution_count": null,
   "id": "35b8df95",
   "metadata": {},
   "outputs": [],
   "source": [
    "# (18) What is tuple? Difference between list and tuple\n",
    "\n",
    "#             The primary difference between tuples and lists is that tuples are immutable as opposed to lists which are mutable.\n",
    "#             Therefore, it is possible to change a list but not a tuple.\n",
    "#             The contents of a tuple cannot change once they have been created in Python due to the immutability of tuples."
   ]
  },
  {
   "cell_type": "code",
   "execution_count": 13,
   "id": "6262f46b",
   "metadata": {},
   "outputs": [
    {
     "name": "stdout",
     "output_type": "stream",
     "text": [
      "('hello', False, 20, 39.0, [10, 20, 30, 40], {20})\n"
     ]
    }
   ],
   "source": [
    "#(19) Write a Python program to create a tuple with different data types\n",
    "\n",
    "tup=(\"hello\",False,20,39.00,[10,20,30,40],{20})\n",
    "print(tup)"
   ]
  },
  {
   "cell_type": "code",
   "execution_count": 14,
   "id": "299bf08f",
   "metadata": {},
   "outputs": [
    {
     "name": "stdout",
     "output_type": "stream",
     "text": [
      "(45, 6, 7, 46, 45)\n",
      "46\n"
     ]
    }
   ],
   "source": [
    "# (20) Write a Python program to create a tuple with numbers\n",
    "\n",
    "tup=(45,6,7,46,45)\n",
    "print(tup)\n",
    "tup=46\n",
    "print(tup)\n"
   ]
  },
  {
   "cell_type": "code",
   "execution_count": 15,
   "id": "e27b5574",
   "metadata": {},
   "outputs": [
    {
     "name": "stdout",
     "output_type": "stream",
     "text": [
      "('h', 'e', 'l', 'l', 'o', 'i', 'a', 'm', 'k', 'h', 'u', 's', 'h', 'i')\n"
     ]
    }
   ],
   "source": [
    "# (21) Write a Python program to convert a tuple to a string\n",
    "\n",
    "a=tuple(\"helloiamkhushi\")\n",
    "print(a)"
   ]
  },
  {
   "cell_type": "code",
   "execution_count": 16,
   "id": "fb139c17",
   "metadata": {},
   "outputs": [
    {
     "name": "stdout",
     "output_type": "stream",
     "text": [
      "5\n"
     ]
    }
   ],
   "source": [
    "# (22) Write a Python program to check whether an element exists within a tuple. \n",
    "\n",
    "tup=(3,4,5,6,7,\"hello\",\"hey\")\n",
    "index=tup.index(\"hello\")\n",
    "print(index)"
   ]
  },
  {
   "cell_type": "code",
   "execution_count": 17,
   "id": "14e3c319",
   "metadata": {},
   "outputs": [
    {
     "name": "stdout",
     "output_type": "stream",
     "text": [
      "('h', 'e', 'l', 'l', 'o')\n",
      "5\n"
     ]
    }
   ],
   "source": [
    "# (23) Write a Python program to find the length of a tuple.\n",
    "\n",
    "tup=tuple(\"hello\")\n",
    "print(tup)\n",
    "print(len(tup))"
   ]
  },
  {
   "cell_type": "code",
   "execution_count": 18,
   "id": "1245d6e0",
   "metadata": {},
   "outputs": [
    {
     "name": "stdout",
     "output_type": "stream",
     "text": [
      "[1, 4, 5, 6, 84, 49, 49, 9585, 457485, 95757, 56, 3, 38]\n",
      "(1, 4, 5, 6, 84, 49, 49, 9585, 457485, 95757, 56, 3, 38)\n"
     ]
    }
   ],
   "source": [
    "# (24) Write a Python program to convert a list to a tuple\n",
    "\n",
    "list1=[1,4,5,6,84,49,49,9585,457485,95757,56,3,38]\n",
    "print(list1)\n",
    "tup=tuple(list1)\n",
    "print(tup)"
   ]
  },
  {
   "cell_type": "code",
   "execution_count": 19,
   "id": "2a07924e",
   "metadata": {},
   "outputs": [
    {
     "name": "stdout",
     "output_type": "stream",
     "text": [
      "('o', 'l', 'l', 'e', 'h')\n",
      "(50, 40, 30, 20, 10)\n"
     ]
    }
   ],
   "source": [
    "# (25) Write a Python program to reverse a tuple\n",
    "\n",
    "x=(\"hello\")\n",
    "# revreres a tuple\n",
    "y=reversed(x)\n",
    "print(tuple(y))\n",
    "#create another tuple\n",
    "x=(10,20,30,40,50)\n",
    "y=reversed(x)\n",
    "print(tuple(y))\n"
   ]
  },
  {
   "cell_type": "code",
   "execution_count": 20,
   "id": "82eef580",
   "metadata": {},
   "outputs": [
    {
     "name": "stdout",
     "output_type": "stream",
     "text": [
      "[(10, 20, 100), (40, 50, 100), (70, 80, 100)]\n"
     ]
    }
   ],
   "source": [
    "# (26) Write a Python program to replace last value of tuples in a list\n",
    "\n",
    "list1=[(10,20,30),(40,50,60),(70,80,90)]\n",
    "print([tup[:-1]+(100,)for tup in list1])"
   ]
  },
  {
   "cell_type": "code",
   "execution_count": 21,
   "id": "ef66c6a1",
   "metadata": {},
   "outputs": [
    {
     "name": "stdout",
     "output_type": "stream",
     "text": [
      "(10, 20, 30, 30, 40, 20, 10, 50, 60, 70, 10, 30, 20, 50)\n",
      "3\n"
     ]
    }
   ],
   "source": [
    "# (27) Write a Python program to find the repeated items of a tuple\n",
    "\n",
    "tup=10,20,30,30,40,20,10,50,60,70,10,30,20,50\n",
    "print(tup)\n",
    "count=tup.count(10)\n",
    "print(count)"
   ]
  },
  {
   "cell_type": "code",
   "execution_count": 22,
   "id": "02989ca0",
   "metadata": {},
   "outputs": [
    {
     "name": "stdout",
     "output_type": "stream",
     "text": [
      "[('a', 'b'), ('a', 'b', 'c'), ('a', 'b', 'c', 'd')]\n"
     ]
    }
   ],
   "source": [
    "# (28) Write a Python program to remove an empty tuple(s) from a list of tuples\n",
    "\n",
    "list1=[(),(),(\"\"),(\"a\",\"b\"),(\"a\",\"b\",\"c\"),(\"a\",\"b\",\"c\",\"d\")]\n",
    "list1=[t for t in list1 if t]\n",
    "print(list1)"
   ]
  },
  {
   "cell_type": "code",
   "execution_count": null,
   "id": "98f97ac3",
   "metadata": {},
   "outputs": [],
   "source": [
    "# (29) Write a Python program to unzip a list of tuples into individual lists\n",
    "\n",
    "list1=[(4,5),(6,7),(8,9),(10,11)]\n",
    "\n",
    "print(list(zip(*list1)))"
   ]
  },
  {
   "cell_type": "code",
   "execution_count": 27,
   "id": "3dbc1448",
   "metadata": {},
   "outputs": [
    {
     "name": "stdout",
     "output_type": "stream",
     "text": [
      "{'khushi': 1, 'metu': 2, 'ishita': 3, 'isha': 4, 'jay': 50}\n"
     ]
    }
   ],
   "source": [
    "# (30) Write a Python program to convert a list of tuples into a dictionary\n",
    "\n",
    "tuples = [('khushi', 1), ('metu', 2), ('ishita', 3), ('isha', 4), ('jay', 50)]\n",
    "# converting to dict\n",
    "result = dict(tuples)\n",
    "\n",
    "# printing the result\n",
    "print(result)"
   ]
  },
  {
   "cell_type": "code",
   "execution_count": null,
   "id": "d5e469f4",
   "metadata": {},
   "outputs": [],
   "source": [
    "# (31) How will you create a dictionary using tuples in python\n",
    "\n",
    "#                        In Pythonuse the dict() function to convert a tuple to a dictionary. \n",
    "#                        A dictionary object can be created with the dict() function. \n",
    "#                        The dictionary is returned by the dict() method, which takes a tuple of tuples as an argument. \n",
    "#                        A key-value pair is contained in each tuple."
   ]
  },
  {
   "cell_type": "code",
   "execution_count": 28,
   "id": "a9bd534f",
   "metadata": {},
   "outputs": [
    {
     "name": "stdout",
     "output_type": "stream",
     "text": [
      "Sorted dictionary is : [(5, 'jay'), (1, 'khushi'), (2, 'metu'), (3, 'mitesh'), (4, 'shruti')]\n"
     ]
    }
   ],
   "source": [
    "# (32) Write a Python script to sort (ascending and descen ing) a dictionary by value. \n",
    "\n",
    "dic={1:'khushi',2:'metu',3:'mitesh',4:'shruti',5:'jay'}\n",
    "# Sort the dictionary\n",
    "sorted_dict= sorted(\n",
    "  dic.items(),\n",
    "  key = lambda kv: kv[1])\n",
    " \n",
    "# Print sorted dictionary\n",
    "print(\"Sorted dictionary is :\",\n",
    "      sorted_dict)"
   ]
  },
  {
   "cell_type": "code",
   "execution_count": 29,
   "id": "b5d62935",
   "metadata": {},
   "outputs": [
    {
     "name": "stdout",
     "output_type": "stream",
     "text": [
      "{1: 578, 2: 276, 3: 750, 4: 496, 5: 567, 6: 789}\n"
     ]
    }
   ],
   "source": [
    "# (33) Write a Python script to concatenate following dictionaries to create a new one\n",
    "\n",
    "dic1={1:578, 2:276}\n",
    "dic2={3:750, 4:496}\n",
    "dic3={5:567,6:789}\n",
    "dic4 = {}\n",
    "for d in (dic1, dic2, dic3): dic4.update(d)\n",
    "print(dic4)"
   ]
  },
  {
   "cell_type": "code",
   "execution_count": 30,
   "id": "dc0f0486",
   "metadata": {},
   "outputs": [
    {
     "name": "stdout",
     "output_type": "stream",
     "text": [
      "Enter key to check:A\n",
      "Key is present and value of the key is:\n",
      "1\n"
     ]
    }
   ],
   "source": [
    "# (34) Write a Python script to check if a given key already exists in a dictionary\n",
    "\n",
    "d={'A':1,'B':2,'C':3}\n",
    "key=input(\"Enter key to check:\")\n",
    "if key in d.keys():\n",
    "      print(\"Key is present and value of the key is:\")\n",
    "      print(d[key])\n",
    "else:\n",
    "      print(\"Key isn't present!\")"
   ]
  },
  {
   "cell_type": "code",
   "execution_count": null,
   "id": "7ffb0921",
   "metadata": {},
   "outputs": [],
   "source": [
    "# (35) How Do You Traverse Through A Dictionary Object In Python?\n",
    "\n",
    "# (1)   Iterating Through Keys Directly.\n",
    "# (2)   Iterating Through .items()\n",
    "# (3)   Iterating Through .keys()\n",
    "# (4)   Iterating Through .values()"
   ]
  },
  {
   "cell_type": "code",
   "execution_count": null,
   "id": "2680d06b",
   "metadata": {},
   "outputs": [],
   "source": [
    "# (36) How Do You Check The Presence Of A Key In A Dictionary? \n",
    "\n",
    "#                       Using has_key() method returns true if a given key is available in the dictionary,\n",
    "#                       otherwise, it returns a false. With the Inbuilt method has_key(), \n",
    "#                       use the if statement to check if the key is present in the dictionary or not."
   ]
  },
  {
   "cell_type": "code",
   "execution_count": 31,
   "id": "db9c99ee",
   "metadata": {},
   "outputs": [
    {
     "name": "stdout",
     "output_type": "stream",
     "text": [
      "{1: 1, 2: 4, 3: 9, 4: 16, 5: 25, 6: 36, 7: 49, 8: 64, 9: 81, 10: 100, 11: 121, 12: 144, 13: 169, 14: 196, 15: 225}\n"
     ]
    }
   ],
   "source": [
    "# (37) Write a Python script to print a dictionary where the keys are numbers between 1 and 15. \n",
    "\n",
    "d=dict()\n",
    "for x in range(1,16):\n",
    "    d[x]=x**2\n",
    "print(d)  \n"
   ]
  },
  {
   "cell_type": "code",
   "execution_count": 32,
   "id": "7bc5116c",
   "metadata": {},
   "outputs": [
    {
     "name": "stdout",
     "output_type": "stream",
     "text": [
      "True\n",
      "False\n"
     ]
    }
   ],
   "source": [
    "# (38) Write a Python program to check multiple keys exists in a dictionary \n",
    "\n",
    "dic={1:'khushi',2:'metu',3:'mitesh',4:'shruti',5:'jay'}\n",
    "print(dic.keys() >= {1,2,3,4,5})\n",
    "print(dic.keys() >= {1,2,3,4,5,88,97})"
   ]
  },
  {
   "cell_type": "code",
   "execution_count": 33,
   "id": "0c76873d",
   "metadata": {},
   "outputs": [
    {
     "name": "stdout",
     "output_type": "stream",
     "text": [
      "{1: 'khushi', 3: 'metu', 2: 'hello', 7: 'disha', 4: 'jay', 5: 'hey'}\n"
     ]
    }
   ],
   "source": [
    "# (39) Write a Python script to merge two Python dictionaries \n",
    "\n",
    "dic1={1:\"khushi\",3:\"metu\",2:\"hello\"}\n",
    "dic2={7:\"disha\",4:\"jay\",5:\"hey\"}\n",
    "dic = dic1.copy()\n",
    "dic.update(dic2)\n",
    "print(dic)"
   ]
  },
  {
   "cell_type": "code",
   "execution_count": 34,
   "id": "2e3db59e",
   "metadata": {},
   "outputs": [
    {
     "name": "stdout",
     "output_type": "stream",
     "text": [
      "{1: 'hey', 2: 'hello', 3: 'wow', 4: 'how are you', 5: 'bey'}\n"
     ]
    }
   ],
   "source": [
    "# (40) Write a Python program to map two lists into a dictionary.\n",
    "\n",
    "list1=[1,2,3,4,5]\n",
    "list2=[\"hey\",\"hello\",\"wow\",\"how are you\",\"bey\"]\n",
    "dict1=dict(zip(list1,list2))\n",
    "print(dict1)"
   ]
  },
  {
   "cell_type": "code",
   "execution_count": 35,
   "id": "3cc3b486",
   "metadata": {},
   "outputs": [
    {
     "name": "stdout",
     "output_type": "stream",
     "text": [
      "{'a': 400, 'b': 400, 'd': 400, 'c': 300}\n"
     ]
    }
   ],
   "source": [
    "# (41) Write a Python program to combine two dictionary adding values for common keys.\n",
    "\n",
    "d1 = {'a': 100, 'b': 200, 'c':300} \n",
    "d2 = {'a': 300, 'b': 200, 'd':400}\n",
    "d3={}\n",
    "for key in d1.keys():\n",
    "    if key in d2.keys():\n",
    "        d1[key]=d1[key]+d2[key]\n",
    "    d2 [key]= d1 [key]    \n",
    "print(d2)        "
   ]
  },
  {
   "cell_type": "code",
   "execution_count": 36,
   "id": "1e64ee20",
   "metadata": {},
   "outputs": [
    {
     "name": "stdout",
     "output_type": "stream",
     "text": [
      "{'jay', 'shruti', 'metu', 'mitesh', 'khushi'}\n"
     ]
    }
   ],
   "source": [
    "# (42) Write a Python program to print all unique values in a dictionary.\n",
    "\n",
    "dic={1:'khushi',2:'metu',3:'mitesh',4:'shruti',5:'jay'}\n",
    "print(set(dic.values()))\n"
   ]
  },
  {
   "cell_type": "code",
   "execution_count": null,
   "id": "281d76f0",
   "metadata": {},
   "outputs": [],
   "source": [
    "# (43) Why Do You Use the Zip () Method in Python?\n",
    "\n",
    "#                        Python's zip() function creates an iterator that will aggregate elements from two or more iterables. \n",
    "#                        You can use the resulting iterator to quickly and consistently solve common programming problems,\n",
    "#                        like creating dictionaries."
   ]
  },
  {
   "cell_type": "code",
   "execution_count": null,
   "id": "3b61a72c",
   "metadata": {},
   "outputs": [],
   "source": [
    "# (44) Write a Python program to create and display all combinations of letters, \n",
    "#                               selecting each letter from a different key in a dictionary.\n",
    "\n",
    "Sample data: {'1': ['a','b'], '2': ['c','d']} "
   ]
  },
  {
   "cell_type": "code",
   "execution_count": 40,
   "id": "a5391010",
   "metadata": {},
   "outputs": [
    {
     "name": "stdout",
     "output_type": "stream",
     "text": [
      "c\n",
      "o\n",
      "s\n"
     ]
    }
   ],
   "source": [
    "# (45) Write a Python program to find the highest 3 values in a dictionary\n",
    "\n",
    "dic={1:'khushi',2:'metu',3:'mitesh',4:'shruti',5:'jay'}\n",
    "dic = sorted(dic,key = dic.get, reverse = True)\n",
    "for index in range(3):\n",
    "    print('costly_dic'[index])\n",
    "     "
   ]
  },
  {
   "cell_type": "code",
   "execution_count": null,
   "id": "fa17237d",
   "metadata": {},
   "outputs": [],
   "source": [
    "# (46) Write a Python program to combine values in python list of dictionaries.\n",
    "\n",
    "from collections import counter\n",
    "list1=[{'item':'item1','amount':400},{'item':'item2','amount':300},{'item':'item1','amount':750}] \n",
    "result = counter()\n",
    "from d in list1:\n",
    "    result[d['item'] += d[\"amount\"]]\n",
    "print(result)    "
   ]
  },
  {
   "cell_type": "code",
   "execution_count": 42,
   "id": "abb74d06",
   "metadata": {},
   "outputs": [
    {
     "name": "stdout",
     "output_type": "stream",
     "text": [
      "{'3': 1, 's': 1, 'r': 1, 'u': 1, 'w': 1, 'c': 1, 'e': 1, 'o': 1}\n"
     ]
    }
   ],
   "source": [
    "# (47) Write a Python program to create a dictionary from a string.\n",
    "#      Note: Track the count of the letters from the string.        Sample string: 'w3resource'\n",
    "\n",
    "str1=\"3sruwceo\"\n",
    "dic={}\n",
    "for letter in str1:\n",
    "    dic[letter]=dic.get(letter, 0)+1\n",
    "print(dic)    "
   ]
  },
  {
   "cell_type": "code",
   "execution_count": 43,
   "id": "c310925d",
   "metadata": {},
   "outputs": [
    {
     "name": "stdout",
     "output_type": "stream",
     "text": [
      "enter the number :5\n",
      "factorial of 5 is 120\n"
     ]
    }
   ],
   "source": [
    "# (48) Write a Python function to calculate the factorial of a number (anonnegative integer)\n",
    "\n",
    "\n",
    "def factorial(a):\n",
    "    fact=1\n",
    "    for p in range(a,0,-1):\n",
    "        fact=fact*p\n",
    "    return fact\n",
    "n=int(input(\"enter the number :\"))\n",
    "res=factorial(n)\n",
    "print(\"factorial of\",n,\"is\",res)\n",
    "    "
   ]
  },
  {
   "cell_type": "code",
   "execution_count": 44,
   "id": "04ca9882",
   "metadata": {
    "scrolled": true
   },
   "outputs": [
    {
     "name": "stdout",
     "output_type": "stream",
     "text": [
      "enter the number :60\n",
      "enter the starting range :50\n",
      "enter the ending range :40\n",
      "number is not a range\n"
     ]
    }
   ],
   "source": [
    "#(49) Write a Python function to check whether a number is in a given range\n",
    "\n",
    "def check_range(number,start,end):\n",
    "    if start <=number <=end:\n",
    "        return True\n",
    "    return False\n",
    "n=int(input(\"enter the number :\"))\n",
    "starting_range=int(input(\"enter the starting range :\"))\n",
    "ending_range=int(input(\"enter the ending range :\"))\n",
    "\n",
    "flag=check_range(n, starting_range, ending_range)\n",
    "if flag:\n",
    "    print(\"number is a range\")\n",
    "    \n",
    "else:\n",
    "    print(\"number is not a range\")"
   ]
  },
  {
   "cell_type": "code",
   "execution_count": 24,
   "id": "9ff46b00",
   "metadata": {},
   "outputs": [
    {
     "name": "stdout",
     "output_type": "stream",
     "text": [
      "enter the number :40\n",
      "number is a not perfect number\n"
     ]
    }
   ],
   "source": [
    "# (50)  Write a Python function to check whether a number is perfect or not.\n",
    "\n",
    "def perfect (n):\n",
    "    sum=0\n",
    "    for i in range(1,n):\n",
    "        if n%i==0:\n",
    "            sum=sum+1\n",
    "    return sum\n",
    "\n",
    "n=int(input(\"enter the number :\"))\n",
    "s = perfect(n)\n",
    "if n==s:\n",
    "    print(\"number is a perfect number \")\n",
    "else:\n",
    "    print(\"number is a not perfect number\")\n"
   ]
  },
  {
   "cell_type": "code",
   "execution_count": 8,
   "id": "75a9013d",
   "metadata": {},
   "outputs": [
    {
     "name": "stdout",
     "output_type": "stream",
     "text": [
      "Enter the string: khushi\n",
      "True\n"
     ]
    }
   ],
   "source": [
    "# (51)  Write a Python function that checks whether a passed string is palindrome or not \n",
    "\n",
    "def chkPalindrome (string):\n",
    "    left_side_pos = 0 \n",
    "    right_side_pos = len(string) - 1 \n",
    "    while right_side_pos> left_side_pos:\n",
    "        if not string [left_side_pos] == string[right_side_pos]:\n",
    "                       left_side_pos += 1 \n",
    "                       right_side_pos == 1            \n",
    "    return True  \n",
    "str1=input(\"Enter the string: \")\n",
    "print(chkPalindrome(str1))                    \n",
    "                       \n",
    "\n"
   ]
  },
  {
   "cell_type": "code",
   "execution_count": null,
   "id": "90a9c190",
   "metadata": {},
   "outputs": [],
   "source": [
    "# (52)  How Many Basic Types Of Functions Are Available In Python?\n",
    "\n",
    "#                                 There are two types of functions in python: User-Defined Functions \n",
    "#                               - these types of functions are defined by the user to perform any specific task. \n",
    "#                                 Built-in Functions - These are pre-defined functions in python."
   ]
  },
  {
   "cell_type": "code",
   "execution_count": null,
   "id": "5c7c10a1",
   "metadata": {},
   "outputs": [],
   "source": [
    "# (53) How can you pick a random item from a list or tuple?\n",
    "\n",
    "#                                Create a tuple and add some dummy data to it.\n",
    "#                                Generate a random item from the tuple using random.\n",
    "#                                choice() method(This function returns a random element from\n",
    "#                                the specified sequence i.e tuple here) by passing the input tuple as an argument to \n",
    "#                                the choice() function.\n",
    "#                                Print the generated random tuple item."
   ]
  },
  {
   "cell_type": "code",
   "execution_count": null,
   "id": "fdb3e3ea",
   "metadata": {},
   "outputs": [],
   "source": [
    "# (54) How can you pick a random item from a range?\n",
    "\n",
    "#                                 Use the random.\n",
    "#                                 randrange() function(Returns a random number within the specified range) \n",
    "#                                 to generate a random number within the given range by passing minimum,\n",
    "#                                 and maximum numbers as arguments."
   ]
  },
  {
   "cell_type": "code",
   "execution_count": null,
   "id": "7f9cabea",
   "metadata": {},
   "outputs": [],
   "source": [
    "# (55) How can you get a random number in python? \n",
    "\n",
    "#                   (1)              Import the random module of Python.\n",
    "#                   (2)              Declare a variable mylist and initialize it with the given elements: [1, 3, 5, 7, 9]\n",
    "#                   (3)              Then, we call the choice() function that takes the list variable as an argument \n",
    "#                                    and generates a random element from the specified list"
   ]
  },
  {
   "cell_type": "code",
   "execution_count": null,
   "id": "53619d0d",
   "metadata": {},
   "outputs": [],
   "source": [
    "# (56) How will you set the starting value in generating random numbers? \n",
    "\n",
    "#                                  The random number generator needs a number to start with (a seed value), \n",
    "#                                  to be able to generate a random number. \n",
    "#                                  By default the random number generator uses the current system time.\n",
    "#                                  Use the seed() method to customize the start number of the random number generator."
   ]
  },
  {
   "cell_type": "code",
   "execution_count": null,
   "id": "d642df52",
   "metadata": {},
   "outputs": [],
   "source": [
    "# (57) How will you randomizes the items of a list in place? \n",
    "\n",
    "#                                  The shuffle() method randomizes the items of a list in place."
   ]
  },
  {
   "cell_type": "code",
   "execution_count": 14,
   "id": "9e3643b4",
   "metadata": {},
   "outputs": [
    {
     "name": "stdout",
     "output_type": "stream",
     "text": [
      "hello, i am khushi.my father name is sanjaybhai. my mother name is sangitaben. thankyou for read.\n",
      "\n"
     ]
    }
   ],
   "source": [
    "# (58) Write a Python program to read a random line from a file.\n",
    "\n",
    "import random\n",
    "fp = open(\"demo.txt\",\"r\")\n",
    "lines = fp.readlines()\n",
    "print(random.choice(lines))\n",
    "fp.close()"
   ]
  },
  {
   "cell_type": "code",
   "execution_count": 15,
   "id": "cf894df7",
   "metadata": {},
   "outputs": [
    {
     "name": "stdout",
     "output_type": "stream",
     "text": [
      "0.0873015873015873\n"
     ]
    }
   ],
   "source": [
    "# (59) Write a Python program to convert degree to radian \n",
    "\n",
    "pi = 22/7\n",
    "degrees = 5\n",
    "radians = degrees * pi / 180\n",
    "print(radians)"
   ]
  },
  {
   "cell_type": "code",
   "execution_count": 17,
   "id": "148c5515",
   "metadata": {},
   "outputs": [
    {
     "name": "stdout",
     "output_type": "stream",
     "text": [
      "enter the height of the trapezoid :50\n",
      "enter the lenght of the bottom base :25\n",
      "enter the lenght og the top base :25\n",
      "the area is 1250.0\n"
     ]
    }
   ],
   "source": [
    "# (60) Write a Python program to calculate the area of a trapezoid\n",
    "height=int(input(\"enter the height of the trapezoid :\"))\n",
    "base_bot=int(input(\"enter the lenght of the bottom base :\"))\n",
    "base_top=int(input(\"enter the lenght og the top base :\"))\n",
    "print(\"the area is\",(base_bot+base_top)/2*height)"
   ]
  },
  {
   "cell_type": "code",
   "execution_count": 18,
   "id": "6ba9035f",
   "metadata": {},
   "outputs": [
    {
     "name": "stdout",
     "output_type": "stream",
     "text": [
      "enter the base :20\n",
      "enter the height : 10\n",
      "area 200.0\n"
     ]
    }
   ],
   "source": [
    "# (61) Write a Python program to calculate the area of a parallelogram\n",
    "\n",
    "b=float(input(\"enter the base :\"))\n",
    "h=float(input(\"enter the height : \"))\n",
    "area=b*h\n",
    "print(\"area\",area)"
   ]
  },
  {
   "cell_type": "code",
   "execution_count": 19,
   "id": "fcd5f9f8",
   "metadata": {},
   "outputs": [
    {
     "name": "stdout",
     "output_type": "stream",
     "text": [
      "height of the cylinder :60\n",
      "radiud of the cylinder : 30\n",
      "volume 169714.2857142857\n",
      "surarea is a 16971.428571428572\n"
     ]
    }
   ],
   "source": [
    "# (62) Write a Python program to calculate surface volume and area of a cylinder \n",
    "\n",
    "pi=22/7\n",
    "h=float(input(\"height of the cylinder :\"))\n",
    "r=float(input(\"radiud of the cylinder : \"))\n",
    "volume=pi *r*r*h\n",
    "surarea=((2*pi*r)*h+(pi*r**2)*2)\n",
    "print(\"volume\",volume)\n",
    "print(\"surarea is a\",surarea)"
   ]
  },
  {
   "cell_type": "code",
   "execution_count": 27,
   "id": "5e98516e",
   "metadata": {},
   "outputs": [
    {
     "name": "stdout",
     "output_type": "stream",
     "text": [
      "sum of all divisors 14 is  10\n"
     ]
    }
   ],
   "source": [
    "# (63)  Write a Python program to returns sum of all divisors of a number\n",
    "\n",
    "def totaldiv(no):\n",
    "    div=[1]\n",
    "    for k in range(2,no):\n",
    "        if(no % k) ==0:\n",
    "            div.append(k)\n",
    "    return sum(div)\n",
    "print(\"sum of all divisors 14 is \",totaldiv(14))"
   ]
  },
  {
   "cell_type": "code",
   "execution_count": 5,
   "id": "efdb13cf",
   "metadata": {},
   "outputs": [
    {
     "name": "stdout",
     "output_type": "stream",
     "text": [
      "enter N number :5\n",
      "enter the number :20\n",
      "enter the number :80\n",
      "enter the number :30\n",
      "enter the number :60\n",
      "enter the number :40\n",
      "[20, 80, 30, 60, 40]\n",
      "maximum value in the list is :  80\n",
      "miniimum value in the list is :  20\n"
     ]
    }
   ],
   "source": [
    "#(64) Write a Python program to find the maximum and minimum numbers from the specified decimal numbers.\n",
    "\n",
    "num=int(input(\"enter N number :\"))\n",
    "arr=[]\n",
    "for n in range(num):\n",
    "    number=int(input(\"enter the number :\"))\n",
    "    arr.append(number)\n",
    "print(arr)\n",
    "print(\"maximum value in the list is : \", max(arr))\n",
    "print(\"miniimum value in the list is : \", min(arr))\n"
   ]
  }
 ],
 "metadata": {
  "kernelspec": {
   "display_name": "Python 3 (ipykernel)",
   "language": "python",
   "name": "python3"
  },
  "language_info": {
   "codemirror_mode": {
    "name": "ipython",
    "version": 3
   },
   "file_extension": ".py",
   "mimetype": "text/x-python",
   "name": "python",
   "nbconvert_exporter": "python",
   "pygments_lexer": "ipython3",
   "version": "3.10.9"
  }
 },
 "nbformat": 4,
 "nbformat_minor": 5
}
